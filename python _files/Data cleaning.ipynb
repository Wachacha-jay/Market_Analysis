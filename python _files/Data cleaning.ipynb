{
 "cells": [
  {
   "cell_type": "markdown",
   "id": "16ab8950-e8f2-4050-9c8a-670562ecec21",
   "metadata": {},
   "source": [
    "## Data cleaning\n",
    "After inspecting the data, I discovered that there were 8 missing values in the \"UNIT PRICE\" column. To address this, I calculated the mean unit price for the products with NaN values and used this mean to fill in the missing entries. Next, I dropped the rows that still contained NaN values, assuming they were erroneous entries.\n",
    "\n",
    "I also checked for duplicate records and found 3,424 duplicates, which I subsequently removed from the dataset. Finally, I reformatted the \"DATE\" column from object type to datetime dtype, and converted \"UNIT PRICE\" and \"QUANTITY\" from object type to integer."
   ]
  },
  {
   "cell_type": "code",
   "execution_count": 1,
   "id": "3e8547cf-9311-4622-9f77-3515d496f8ad",
   "metadata": {},
   "outputs": [],
   "source": [
    "import pandas as pd"
   ]
  },
  {
   "cell_type": "code",
   "execution_count": 2,
   "id": "aea1ad9d-893d-4e9a-a913-ed7c36ca7308",
   "metadata": {},
   "outputs": [],
   "source": [
    "#import data\n",
    "df = pd.read_csv(r\"C:\\Users\\jay\\Desktop\\Kwanza Tukule\\Case Study Data.csv\", thousands = \",\")"
   ]
  },
  {
   "cell_type": "code",
   "execution_count": 3,
   "id": "e6f9d757-d957-4bd2-b3c9-224dfd2f638f",
   "metadata": {},
   "outputs": [
    {
     "name": "stdout",
     "output_type": "stream",
     "text": [
      "<class 'pandas.core.frame.DataFrame'>\n",
      "RangeIndex: 333405 entries, 0 to 333404\n",
      "Data columns (total 7 columns):\n",
      " #   Column               Non-Null Count   Dtype  \n",
      "---  ------               --------------   -----  \n",
      " 0   DATE                 333405 non-null  object \n",
      " 1   ANONYMIZED CATEGORY  333405 non-null  object \n",
      " 2   ANONYMIZED PRODUCT   333405 non-null  object \n",
      " 3   ANONYMIZED BUSINESS  333405 non-null  object \n",
      " 4   ANONYMIZED LOCATION  333405 non-null  object \n",
      " 5   QUANTITY             333405 non-null  int64  \n",
      " 6   UNIT PRICE           333397 non-null  float64\n",
      "dtypes: float64(1), int64(1), object(5)\n",
      "memory usage: 17.8+ MB\n"
     ]
    }
   ],
   "source": [
    "df.shape\n",
    "df.info()"
   ]
  },
  {
   "cell_type": "code",
   "execution_count": 7,
   "id": "e1700ea7-5c62-4db8-8786-70293784710b",
   "metadata": {},
   "outputs": [
    {
     "data": {
      "text/html": [
       "<div>\n",
       "<style scoped>\n",
       "    .dataframe tbody tr th:only-of-type {\n",
       "        vertical-align: middle;\n",
       "    }\n",
       "\n",
       "    .dataframe tbody tr th {\n",
       "        vertical-align: top;\n",
       "    }\n",
       "\n",
       "    .dataframe thead th {\n",
       "        text-align: right;\n",
       "    }\n",
       "</style>\n",
       "<table border=\"1\" class=\"dataframe\">\n",
       "  <thead>\n",
       "    <tr style=\"text-align: right;\">\n",
       "      <th></th>\n",
       "      <th>DATE</th>\n",
       "      <th>ANONYMIZED CATEGORY</th>\n",
       "      <th>ANONYMIZED PRODUCT</th>\n",
       "      <th>ANONYMIZED BUSINESS</th>\n",
       "      <th>ANONYMIZED LOCATION</th>\n",
       "      <th>QUANTITY</th>\n",
       "      <th>UNIT PRICE</th>\n",
       "    </tr>\n",
       "  </thead>\n",
       "  <tbody>\n",
       "    <tr>\n",
       "      <th>108112</th>\n",
       "      <td>July 3, 2024, 5:53 PM</td>\n",
       "      <td>Category-94</td>\n",
       "      <td>Product-3d7f</td>\n",
       "      <td>Business-4fce</td>\n",
       "      <td>Location-f37d</td>\n",
       "      <td>2</td>\n",
       "      <td>NaN</td>\n",
       "    </tr>\n",
       "    <tr>\n",
       "      <th>150961</th>\n",
       "      <td>December 16, 2024, 6:33 PM</td>\n",
       "      <td>Category-79</td>\n",
       "      <td>Product-dfc8</td>\n",
       "      <td>Business-8bbf</td>\n",
       "      <td>Location-3fc0</td>\n",
       "      <td>1</td>\n",
       "      <td>NaN</td>\n",
       "    </tr>\n",
       "    <tr>\n",
       "      <th>151142</th>\n",
       "      <td>December 22, 2024, 2:42 PM</td>\n",
       "      <td>Category-122</td>\n",
       "      <td>Product-15e0</td>\n",
       "      <td>Business-c575</td>\n",
       "      <td>Location-1979</td>\n",
       "      <td>3</td>\n",
       "      <td>NaN</td>\n",
       "    </tr>\n",
       "    <tr>\n",
       "      <th>272379</th>\n",
       "      <td>June 27, 2024, 12:15 PM</td>\n",
       "      <td>Category-92</td>\n",
       "      <td>Product-ccbc</td>\n",
       "      <td>Business-14b6</td>\n",
       "      <td>Location-1979</td>\n",
       "      <td>1</td>\n",
       "      <td>NaN</td>\n",
       "    </tr>\n",
       "    <tr>\n",
       "      <th>278284</th>\n",
       "      <td>August 14, 2024, 9:09 PM</td>\n",
       "      <td>Category-101</td>\n",
       "      <td>Product-84a5</td>\n",
       "      <td>Business-4be1</td>\n",
       "      <td>Location-bb69</td>\n",
       "      <td>21</td>\n",
       "      <td>NaN</td>\n",
       "    </tr>\n",
       "    <tr>\n",
       "      <th>278384</th>\n",
       "      <td>December 30, 2024, 2:17 PM</td>\n",
       "      <td>Category-95</td>\n",
       "      <td>Product-15f3</td>\n",
       "      <td>Business-1a74</td>\n",
       "      <td>Location-f37d</td>\n",
       "      <td>1</td>\n",
       "      <td>NaN</td>\n",
       "    </tr>\n",
       "    <tr>\n",
       "      <th>310385</th>\n",
       "      <td>March 31, 2024, 2:03 PM</td>\n",
       "      <td>Category-114</td>\n",
       "      <td>Product-9204</td>\n",
       "      <td>Business-c9dc</td>\n",
       "      <td>Location-689f</td>\n",
       "      <td>1</td>\n",
       "      <td>NaN</td>\n",
       "    </tr>\n",
       "    <tr>\n",
       "      <th>327152</th>\n",
       "      <td>August 13, 2024, 4:20 PM</td>\n",
       "      <td>Category-107</td>\n",
       "      <td>Product-7eed</td>\n",
       "      <td>Business-0d61</td>\n",
       "      <td>Location-1ba8</td>\n",
       "      <td>1</td>\n",
       "      <td>NaN</td>\n",
       "    </tr>\n",
       "  </tbody>\n",
       "</table>\n",
       "</div>"
      ],
      "text/plain": [
       "                              DATE ANONYMIZED CATEGORY ANONYMIZED PRODUCT  \\\n",
       "108112       July 3, 2024, 5:53 PM         Category-94       Product-3d7f   \n",
       "150961  December 16, 2024, 6:33 PM         Category-79       Product-dfc8   \n",
       "151142  December 22, 2024, 2:42 PM        Category-122       Product-15e0   \n",
       "272379     June 27, 2024, 12:15 PM         Category-92       Product-ccbc   \n",
       "278284    August 14, 2024, 9:09 PM        Category-101       Product-84a5   \n",
       "278384  December 30, 2024, 2:17 PM         Category-95       Product-15f3   \n",
       "310385     March 31, 2024, 2:03 PM        Category-114       Product-9204   \n",
       "327152    August 13, 2024, 4:20 PM        Category-107       Product-7eed   \n",
       "\n",
       "       ANONYMIZED BUSINESS ANONYMIZED LOCATION  QUANTITY  UNIT PRICE  \n",
       "108112       Business-4fce       Location-f37d         2         NaN  \n",
       "150961       Business-8bbf       Location-3fc0         1         NaN  \n",
       "151142       Business-c575       Location-1979         3         NaN  \n",
       "272379       Business-14b6       Location-1979         1         NaN  \n",
       "278284       Business-4be1       Location-bb69        21         NaN  \n",
       "278384       Business-1a74       Location-f37d         1         NaN  \n",
       "310385       Business-c9dc       Location-689f         1         NaN  \n",
       "327152       Business-0d61       Location-1ba8         1         NaN  "
      ]
     },
     "execution_count": 7,
     "metadata": {},
     "output_type": "execute_result"
    }
   ],
   "source": [
    "df[df.isna().any(axis=1)]"
   ]
  },
  {
   "cell_type": "code",
   "execution_count": 9,
   "id": "1196b222-e769-4ea6-96fd-1a9773b491fd",
   "metadata": {},
   "outputs": [],
   "source": [
    "# Step 1: Calculate the mean UNIT PRICE for each ANONYMIZED PRODUCT\n",
    "mean_prices = df.groupby(\"ANONYMIZED PRODUCT\")[\"UNIT PRICE\"].mean()\n",
    "\n",
    "# Step 2: Fill NaN values in UNIT PRICE using the mean prices\n",
    "df[\"UNIT PRICE\"] = df.apply(\n",
    "    lambda row: mean_prices[row[\"ANONYMIZED PRODUCT\"]] if pd.isna(row[\"UNIT PRICE\"]) else row[\"UNIT PRICE\"], \n",
    "    axis=1\n",
    ")"
   ]
  },
  {
   "cell_type": "code",
   "execution_count": 11,
   "id": "a6f88986-35b7-4e37-a802-01e18784db32",
   "metadata": {},
   "outputs": [
    {
     "name": "stdout",
     "output_type": "stream",
     "text": [
      "<class 'pandas.core.frame.DataFrame'>\n",
      "RangeIndex: 333405 entries, 0 to 333404\n",
      "Data columns (total 7 columns):\n",
      " #   Column               Non-Null Count   Dtype  \n",
      "---  ------               --------------   -----  \n",
      " 0   DATE                 333405 non-null  object \n",
      " 1   ANONYMIZED CATEGORY  333405 non-null  object \n",
      " 2   ANONYMIZED PRODUCT   333405 non-null  object \n",
      " 3   ANONYMIZED BUSINESS  333405 non-null  object \n",
      " 4   ANONYMIZED LOCATION  333405 non-null  object \n",
      " 5   QUANTITY             333405 non-null  int64  \n",
      " 6   UNIT PRICE           333402 non-null  float64\n",
      "dtypes: float64(1), int64(1), object(5)\n",
      "memory usage: 17.8+ MB\n"
     ]
    }
   ],
   "source": [
    "df.info()"
   ]
  },
  {
   "cell_type": "code",
   "execution_count": 13,
   "id": "67247e80-2ed1-4e11-a108-2ef738a1c1cf",
   "metadata": {},
   "outputs": [
    {
     "name": "stdout",
     "output_type": "stream",
     "text": [
      "<class 'pandas.core.frame.DataFrame'>\n",
      "Index: 333402 entries, 0 to 333404\n",
      "Data columns (total 7 columns):\n",
      " #   Column               Non-Null Count   Dtype  \n",
      "---  ------               --------------   -----  \n",
      " 0   DATE                 333402 non-null  object \n",
      " 1   ANONYMIZED CATEGORY  333402 non-null  object \n",
      " 2   ANONYMIZED PRODUCT   333402 non-null  object \n",
      " 3   ANONYMIZED BUSINESS  333402 non-null  object \n",
      " 4   ANONYMIZED LOCATION  333402 non-null  object \n",
      " 5   QUANTITY             333402 non-null  int64  \n",
      " 6   UNIT PRICE           333402 non-null  float64\n",
      "dtypes: float64(1), int64(1), object(5)\n",
      "memory usage: 20.3+ MB\n"
     ]
    }
   ],
   "source": [
    "# Drop the remaining nan values since there are no similar products to use to fill the unit price\n",
    "df.dropna(inplace = True)\n",
    "df.info()"
   ]
  },
  {
   "cell_type": "code",
   "execution_count": 57,
   "id": "83e471bd-94ce-4bd1-808f-3a0b1f14f9e2",
   "metadata": {},
   "outputs": [],
   "source": [
    "#convert DATE column to datetime data type\n",
    "df['DATE'] = pd.to_datetime(df['DATE'], format='%B %d, %Y, %I:%M %p')"
   ]
  },
  {
   "cell_type": "code",
   "execution_count": 21,
   "id": "f92800a0-44f9-4789-8f6c-a86f73c517c4",
   "metadata": {},
   "outputs": [],
   "source": [
    "#convert unit price to type int\n",
    "df[\"UNIT PRICE\"] = df[\"UNIT PRICE\"].astype(int)"
   ]
  },
  {
   "cell_type": "code",
   "execution_count": 23,
   "id": "657aa249-332d-446d-bd50-43c274803f3c",
   "metadata": {},
   "outputs": [
    {
     "name": "stdout",
     "output_type": "stream",
     "text": [
      "<class 'pandas.core.frame.DataFrame'>\n",
      "Index: 333402 entries, 0 to 333404\n",
      "Data columns (total 7 columns):\n",
      " #   Column               Non-Null Count   Dtype         \n",
      "---  ------               --------------   -----         \n",
      " 0   DATE                 333402 non-null  datetime64[ns]\n",
      " 1   ANONYMIZED CATEGORY  333402 non-null  object        \n",
      " 2   ANONYMIZED PRODUCT   333402 non-null  object        \n",
      " 3   ANONYMIZED BUSINESS  333402 non-null  object        \n",
      " 4   ANONYMIZED LOCATION  333402 non-null  object        \n",
      " 5   QUANTITY             333402 non-null  int64         \n",
      " 6   UNIT PRICE           333402 non-null  int32         \n",
      "dtypes: datetime64[ns](1), int32(1), int64(1), object(4)\n",
      "memory usage: 19.1+ MB\n"
     ]
    },
    {
     "data": {
      "text/plain": [
       "(333402, 7)"
      ]
     },
     "execution_count": 23,
     "metadata": {},
     "output_type": "execute_result"
    }
   ],
   "source": [
    "df.info()\n",
    "df.shape"
   ]
  },
  {
   "cell_type": "code",
   "execution_count": 29,
   "id": "4756aacd-9e52-40ed-b730-0b0649684ac1",
   "metadata": {},
   "outputs": [
    {
     "data": {
      "text/html": [
       "<div>\n",
       "<style scoped>\n",
       "    .dataframe tbody tr th:only-of-type {\n",
       "        vertical-align: middle;\n",
       "    }\n",
       "\n",
       "    .dataframe tbody tr th {\n",
       "        vertical-align: top;\n",
       "    }\n",
       "\n",
       "    .dataframe thead th {\n",
       "        text-align: right;\n",
       "    }\n",
       "</style>\n",
       "<table border=\"1\" class=\"dataframe\">\n",
       "  <thead>\n",
       "    <tr style=\"text-align: right;\">\n",
       "      <th></th>\n",
       "      <th>DATE</th>\n",
       "      <th>ANONYMIZED CATEGORY</th>\n",
       "      <th>ANONYMIZED PRODUCT</th>\n",
       "      <th>ANONYMIZED BUSINESS</th>\n",
       "      <th>ANONYMIZED LOCATION</th>\n",
       "      <th>QUANTITY</th>\n",
       "      <th>UNIT PRICE</th>\n",
       "    </tr>\n",
       "  </thead>\n",
       "  <tbody>\n",
       "    <tr>\n",
       "      <th>6153</th>\n",
       "      <td>2024-01-06 11:52:00</td>\n",
       "      <td>Category-91</td>\n",
       "      <td>Product-1b48</td>\n",
       "      <td>Business-20fc</td>\n",
       "      <td>Location-b125</td>\n",
       "      <td>1</td>\n",
       "      <td>3680</td>\n",
       "    </tr>\n",
       "    <tr>\n",
       "      <th>7554</th>\n",
       "      <td>2024-07-09 14:26:00</td>\n",
       "      <td>Category-104</td>\n",
       "      <td>Product-af50</td>\n",
       "      <td>Business-476c</td>\n",
       "      <td>Location-b27b</td>\n",
       "      <td>1</td>\n",
       "      <td>1310</td>\n",
       "    </tr>\n",
       "    <tr>\n",
       "      <th>7555</th>\n",
       "      <td>2024-07-09 14:26:00</td>\n",
       "      <td>Category-92</td>\n",
       "      <td>Product-d09a</td>\n",
       "      <td>Business-476c</td>\n",
       "      <td>Location-b27b</td>\n",
       "      <td>1</td>\n",
       "      <td>1550</td>\n",
       "    </tr>\n",
       "    <tr>\n",
       "      <th>12238</th>\n",
       "      <td>2024-04-19 15:19:00</td>\n",
       "      <td>Category-75</td>\n",
       "      <td>Product-086d</td>\n",
       "      <td>Business-b48e</td>\n",
       "      <td>Location-03fc</td>\n",
       "      <td>3</td>\n",
       "      <td>2090</td>\n",
       "    </tr>\n",
       "    <tr>\n",
       "      <th>12239</th>\n",
       "      <td>2024-04-19 15:19:00</td>\n",
       "      <td>Category-106</td>\n",
       "      <td>Product-21f4</td>\n",
       "      <td>Business-b48e</td>\n",
       "      <td>Location-03fc</td>\n",
       "      <td>2</td>\n",
       "      <td>850</td>\n",
       "    </tr>\n",
       "    <tr>\n",
       "      <th>...</th>\n",
       "      <td>...</td>\n",
       "      <td>...</td>\n",
       "      <td>...</td>\n",
       "      <td>...</td>\n",
       "      <td>...</td>\n",
       "      <td>...</td>\n",
       "      <td>...</td>\n",
       "    </tr>\n",
       "    <tr>\n",
       "      <th>333133</th>\n",
       "      <td>2024-02-01 09:17:00</td>\n",
       "      <td>Category-111</td>\n",
       "      <td>Product-7fac</td>\n",
       "      <td>Business-4919</td>\n",
       "      <td>Location-3e32</td>\n",
       "      <td>3</td>\n",
       "      <td>814</td>\n",
       "    </tr>\n",
       "    <tr>\n",
       "      <th>333134</th>\n",
       "      <td>2024-02-01 09:17:00</td>\n",
       "      <td>Category-77</td>\n",
       "      <td>Product-d09c</td>\n",
       "      <td>Business-4919</td>\n",
       "      <td>Location-3e32</td>\n",
       "      <td>1</td>\n",
       "      <td>3200</td>\n",
       "    </tr>\n",
       "    <tr>\n",
       "      <th>333350</th>\n",
       "      <td>2024-06-10 22:08:00</td>\n",
       "      <td>Category-76</td>\n",
       "      <td>Product-e805</td>\n",
       "      <td>Business-54ad</td>\n",
       "      <td>Location-3e32</td>\n",
       "      <td>5</td>\n",
       "      <td>5965</td>\n",
       "    </tr>\n",
       "    <tr>\n",
       "      <th>333399</th>\n",
       "      <td>2024-01-09 20:49:00</td>\n",
       "      <td>Category-97</td>\n",
       "      <td>Product-bbdc</td>\n",
       "      <td>Business-f9ff</td>\n",
       "      <td>Location-1979</td>\n",
       "      <td>1</td>\n",
       "      <td>341</td>\n",
       "    </tr>\n",
       "    <tr>\n",
       "      <th>333400</th>\n",
       "      <td>2024-01-09 20:49:00</td>\n",
       "      <td>Category-119</td>\n",
       "      <td>Product-e98d</td>\n",
       "      <td>Business-f9ff</td>\n",
       "      <td>Location-1979</td>\n",
       "      <td>1</td>\n",
       "      <td>1770</td>\n",
       "    </tr>\n",
       "  </tbody>\n",
       "</table>\n",
       "<p>3524 rows × 7 columns</p>\n",
       "</div>"
      ],
      "text/plain": [
       "                      DATE ANONYMIZED CATEGORY ANONYMIZED PRODUCT  \\\n",
       "6153   2024-01-06 11:52:00         Category-91       Product-1b48   \n",
       "7554   2024-07-09 14:26:00        Category-104       Product-af50   \n",
       "7555   2024-07-09 14:26:00         Category-92       Product-d09a   \n",
       "12238  2024-04-19 15:19:00         Category-75       Product-086d   \n",
       "12239  2024-04-19 15:19:00        Category-106       Product-21f4   \n",
       "...                    ...                 ...                ...   \n",
       "333133 2024-02-01 09:17:00        Category-111       Product-7fac   \n",
       "333134 2024-02-01 09:17:00         Category-77       Product-d09c   \n",
       "333350 2024-06-10 22:08:00         Category-76       Product-e805   \n",
       "333399 2024-01-09 20:49:00         Category-97       Product-bbdc   \n",
       "333400 2024-01-09 20:49:00        Category-119       Product-e98d   \n",
       "\n",
       "       ANONYMIZED BUSINESS ANONYMIZED LOCATION  QUANTITY  UNIT PRICE  \n",
       "6153         Business-20fc       Location-b125         1        3680  \n",
       "7554         Business-476c       Location-b27b         1        1310  \n",
       "7555         Business-476c       Location-b27b         1        1550  \n",
       "12238        Business-b48e       Location-03fc         3        2090  \n",
       "12239        Business-b48e       Location-03fc         2         850  \n",
       "...                    ...                 ...       ...         ...  \n",
       "333133       Business-4919       Location-3e32         3         814  \n",
       "333134       Business-4919       Location-3e32         1        3200  \n",
       "333350       Business-54ad       Location-3e32         5        5965  \n",
       "333399       Business-f9ff       Location-1979         1         341  \n",
       "333400       Business-f9ff       Location-1979         1        1770  \n",
       "\n",
       "[3524 rows x 7 columns]"
      ]
     },
     "execution_count": 29,
     "metadata": {},
     "output_type": "execute_result"
    }
   ],
   "source": [
    "duplicate = df.duplicated()\n",
    "duplicated_rows = df[duplicate]\n",
    "duplicated_rows"
   ]
  },
  {
   "cell_type": "code",
   "execution_count": 33,
   "id": "81021919-129d-4bb8-9b9d-2b199ebc619d",
   "metadata": {},
   "outputs": [],
   "source": [
    "#drop duplicate entries\n",
    "df.drop_duplicates(inplace = True)"
   ]
  },
  {
   "cell_type": "code",
   "execution_count": 55,
   "id": "a48799f9-de8b-456f-a484-c3c69c465d1f",
   "metadata": {},
   "outputs": [
    {
     "name": "stdout",
     "output_type": "stream",
     "text": [
      "<class 'pandas.core.frame.DataFrame'>\n",
      "Index: 329878 entries, 0 to 333404\n",
      "Data columns (total 8 columns):\n",
      " #   Column               Non-Null Count   Dtype \n",
      "---  ------               --------------   ----- \n",
      " 0   DATE                 329878 non-null  object\n",
      " 1   ANONYMIZED CATEGORY  329878 non-null  object\n",
      " 2   ANONYMIZED PRODUCT   329878 non-null  object\n",
      " 3   ANONYMIZED BUSINESS  329878 non-null  object\n",
      " 4   ANONYMIZED LOCATION  329878 non-null  object\n",
      " 5   QUANTITY             329878 non-null  int64 \n",
      " 6   UNIT PRICE           329878 non-null  int32 \n",
      " 7   Month_Year           329878 non-null  object\n",
      "dtypes: int32(1), int64(1), object(6)\n",
      "memory usage: 21.4+ MB\n"
     ]
    }
   ],
   "source": [
    "df.info()"
   ]
  },
  {
   "cell_type": "code",
   "execution_count": 59,
   "id": "4eb0ae1a-9967-4d87-8a35-30c3a1097ba6",
   "metadata": {},
   "outputs": [],
   "source": [
    "#Create the month year column\n",
    "df[\"Month_Year\"] = df[\"DATE\"].dt.to_period(\"M\")"
   ]
  },
  {
   "cell_type": "code",
   "execution_count": 61,
   "id": "335a75a7-dc70-4b55-8cc8-58aeb3aae9c5",
   "metadata": {},
   "outputs": [
    {
     "data": {
      "text/html": [
       "<div>\n",
       "<style scoped>\n",
       "    .dataframe tbody tr th:only-of-type {\n",
       "        vertical-align: middle;\n",
       "    }\n",
       "\n",
       "    .dataframe tbody tr th {\n",
       "        vertical-align: top;\n",
       "    }\n",
       "\n",
       "    .dataframe thead th {\n",
       "        text-align: right;\n",
       "    }\n",
       "</style>\n",
       "<table border=\"1\" class=\"dataframe\">\n",
       "  <thead>\n",
       "    <tr style=\"text-align: right;\">\n",
       "      <th></th>\n",
       "      <th>DATE</th>\n",
       "      <th>ANONYMIZED CATEGORY</th>\n",
       "      <th>ANONYMIZED PRODUCT</th>\n",
       "      <th>ANONYMIZED BUSINESS</th>\n",
       "      <th>ANONYMIZED LOCATION</th>\n",
       "      <th>QUANTITY</th>\n",
       "      <th>UNIT PRICE</th>\n",
       "      <th>Month_Year</th>\n",
       "    </tr>\n",
       "  </thead>\n",
       "  <tbody>\n",
       "    <tr>\n",
       "      <th>0</th>\n",
       "      <td>2024-08-18 21:32:00</td>\n",
       "      <td>Category-106</td>\n",
       "      <td>Product-21f4</td>\n",
       "      <td>Business-de42</td>\n",
       "      <td>Location-1ba8</td>\n",
       "      <td>1</td>\n",
       "      <td>850</td>\n",
       "      <td>2024-08</td>\n",
       "    </tr>\n",
       "  </tbody>\n",
       "</table>\n",
       "</div>"
      ],
      "text/plain": [
       "                 DATE ANONYMIZED CATEGORY ANONYMIZED PRODUCT  \\\n",
       "0 2024-08-18 21:32:00        Category-106       Product-21f4   \n",
       "\n",
       "  ANONYMIZED BUSINESS ANONYMIZED LOCATION  QUANTITY  UNIT PRICE Month_Year  \n",
       "0       Business-de42       Location-1ba8         1         850    2024-08  "
      ]
     },
     "execution_count": 61,
     "metadata": {},
     "output_type": "execute_result"
    }
   ],
   "source": [
    "df.head(1)"
   ]
  },
  {
   "cell_type": "code",
   "execution_count": 63,
   "id": "075b9f85-8142-46ae-8106-3f3fae0c340b",
   "metadata": {},
   "outputs": [],
   "source": [
    "df.to_csv(r\"C:\\Users\\jay\\Desktop\\Kwanza Tukule\\Cleaned_data.csv\", index = False)"
   ]
  },
  {
   "cell_type": "code",
   "execution_count": null,
   "id": "f7d0f577-6809-406c-814a-5ae311d46f66",
   "metadata": {},
   "outputs": [],
   "source": []
  }
 ],
 "metadata": {
  "kernelspec": {
   "display_name": "Python 3 (ipykernel)",
   "language": "python",
   "name": "python3"
  },
  "language_info": {
   "codemirror_mode": {
    "name": "ipython",
    "version": 3
   },
   "file_extension": ".py",
   "mimetype": "text/x-python",
   "name": "python",
   "nbconvert_exporter": "python",
   "pygments_lexer": "ipython3",
   "version": "3.12.9"
  }
 },
 "nbformat": 4,
 "nbformat_minor": 5
}
